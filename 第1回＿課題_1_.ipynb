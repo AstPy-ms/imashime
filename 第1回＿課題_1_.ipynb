{
  "nbformat": 4,
  "nbformat_minor": 0,
  "metadata": {
    "kernelspec": {
      "display_name": "Python 3",
      "language": "python",
      "name": "python3"
    },
    "language_info": {
      "codemirror_mode": {
        "name": "ipython",
        "version": 3
      },
      "file_extension": ".py",
      "mimetype": "text/x-python",
      "name": "python",
      "nbconvert_exporter": "python",
      "pygments_lexer": "ipython3",
      "version": "3.7.1"
    },
    "colab": {
      "name": "第1回＿課題_1_.ipynb",
      "provenance": [],
      "include_colab_link": true
    }
  },
  "cells": [
    {
      "cell_type": "markdown",
      "metadata": {
        "id": "view-in-github",
        "colab_type": "text"
      },
      "source": [
        "<a href=\"https://colab.research.google.com/github/AstPy-ms/imashime/blob/master/%E7%AC%AC1%E5%9B%9E%EF%BC%BF%E8%AA%B2%E9%A1%8C_1_.ipynb\" target=\"_parent\"><img src=\"https://colab.research.google.com/assets/colab-badge.svg\" alt=\"Open In Colab\"/></a>"
      ]
    },
    {
      "cell_type": "code",
      "metadata": {
        "id": "L82imKSGy8vo",
        "colab_type": "code",
        "outputId": "5417246c-81ad-48a8-e722-6050ce9d53b3",
        "colab": {
          "base_uri": "https://localhost:8080/",
          "height": 90
        }
      },
      "source": [
        "\"\"\"課題１\"\"\"\n",
        "#Input関数を使って，任意の2つの数値を入力し，これらの数値で各演算子の意味を確認しよう！\n",
        "i = (int)(input('値 i を入力してください：　'))\n",
        "j = (int)(input('値 j を入力してください：　'))\n",
        "print('i ** j = ', i**j)\n",
        "print('i == j ->', i == j)\n",
        "#以下すべての演算子の意味を確認するコードを書いてください\n"
      ],
      "execution_count": 0,
      "outputs": [
        {
          "output_type": "stream",
          "text": [
            "値 i を入力してください：　2\n",
            "値 j を入力してください：　3\n",
            "i ** j =  8\n",
            "i == j -> False\n"
          ],
          "name": "stdout"
        }
      ]
    },
    {
      "cell_type": "code",
      "metadata": {
        "id": "skE-pMWa65oD",
        "colab_type": "code",
        "outputId": "d0d838c2-9779-48a0-e021-6f53e1459fc7",
        "colab": {
          "base_uri": "https://localhost:8080/",
          "height": 90
        }
      },
      "source": [
        "s = (str)(input(\"なんでもええんやで :\"))\n",
        "print(f'入力された文字列は {s} です。')\n",
        "\n",
        "x = (int)(input(\"整数以外は許さない.py :\"))\n",
        "print(f'入力された整数は {x} です。')"
      ],
      "execution_count": 0,
      "outputs": [
        {
          "output_type": "stream",
          "text": [
            "なんでもええんやで :3232\n",
            "入力された文字列は 3232 です。\n",
            "整数以外は許さない.py :321\n",
            "入力された整数は 321 です。\n"
          ],
          "name": "stdout"
        }
      ]
    },
    {
      "cell_type": "code",
      "metadata": {
        "id": "P14gHp-ty8v6",
        "colab_type": "code",
        "outputId": "cc390dde-1b3e-4bbb-f89d-cd4c5c5e629b",
        "colab": {
          "base_uri": "https://localhost:8080/",
          "height": 90
        }
      },
      "source": [
        "\"\"\"課題2\"\"\"\n",
        "#入力が半径の値で，円の面積と円周を計算して出力するプログラムを作成しよう．\n",
        "#入力: 半径の値（float型）\n",
        "#出力: 円の面積＝半径ｘ半径ｘ3.14 と　円周＝2x半径ｘ3.14\n",
        "\n",
        "radius = (int)(input(\"radius is:\"))\n",
        "\n",
        "cir = 2 * radius * 3.14\n",
        "area = radius * radius * 3.14\n",
        "\n",
        "print(\"円周は\" + str(cir) + \"で、面積は\" + str(area) + \"です。\")\n",
        "\n",
        "print(f'円周は{cir}で、面積は{area}です。')\n",
        "  \n",
        "print(\"円周は{}で、面積は{}です。\".format(cir, area))"
      ],
      "execution_count": 0,
      "outputs": [
        {
          "output_type": "stream",
          "text": [
            "radius is:2\n",
            "円周は12.56で、面積は12.56です。\n",
            "円周は12.56で、面積は12.56です。\n",
            "円周は12.56で、面積は12.56です。\n"
          ],
          "name": "stdout"
        }
      ]
    },
    {
      "cell_type": "code",
      "metadata": {
        "id": "1HAVRMs04LPQ",
        "colab_type": "code",
        "outputId": "ca0f3c7a-b53a-4e87-e9af-859763878183",
        "colab": {
          "base_uri": "https://localhost:8080/",
          "height": 54
        }
      },
      "source": [
        "name = (str)(input())\n",
        "\n",
        "flg = 0\n",
        "\n",
        "for i in range(len(name)):\n",
        "  \n",
        "  if(name[i] == 'よ' or name[i] == 'こ' or name[i] == 'ざ' or name[i] == 'わ'):\n",
        "    flg += 1\n",
        "  \n",
        "  else:\n",
        "    pass\n",
        "    \n",
        "if(flg > 0):\n",
        "  print(\"お前はよこざわ\")\n",
        "else:\n",
        "  print(\"平和\")"
      ],
      "execution_count": 0,
      "outputs": [
        {
          "output_type": "stream",
          "text": [
            "わだけんぞう\n",
            "お前はよこざわ\n"
          ],
          "name": "stdout"
        }
      ]
    }
  ]
}